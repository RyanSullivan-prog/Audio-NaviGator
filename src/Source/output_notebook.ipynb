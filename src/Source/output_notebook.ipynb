{
 "cells": [
  {
   "cell_type": "code",
   "execution_count": null,
   "id": "600f9039-d80c-4abf-ac6d-bbd04f9c3315",
   "metadata": {
    "papermill": {
     "duration": null,
     "end_time": null,
     "exception": null,
     "start_time": null,
     "status": "pending"
    },
    "tags": []
   },
   "outputs": [],
   "source": [
    "%%writefile requirements.txt\n",
    "pandas==2.1.4\n",
    "matplotlib==3.8.0\n",
    "numpy==1.26.4\n",
    "nussl==1.1.9\n",
    "ffmpeg-python==0.2.0\n",
    "torch==2.6.0\n",
    "scipy==1.11.4\n",
    "sox==1.4.0\n",
    "librosa==0.10.2.post1"
   ]
  },
  {
   "cell_type": "code",
   "execution_count": null,
   "id": "1e54f02d-036d-4cf9-a917-4e258ae1f394",
   "metadata": {
    "papermill": {
     "duration": null,
     "end_time": null,
     "exception": null,
     "start_time": null,
     "status": "pending"
    },
    "tags": []
   },
   "outputs": [],
   "source": [
    "!pip install -r requirements.txt"
   ]
  },
  {
   "cell_type": "code",
   "execution_count": null,
   "id": "42a0d441-7a04-40c6-bc53-393bf192a2ac",
   "metadata": {
    "papermill": {
     "duration": null,
     "end_time": null,
     "exception": null,
     "start_time": null,
     "status": "pending"
    },
    "tags": []
   },
   "outputs": [],
   "source": [
    "import nussl"
   ]
  },
  {
   "cell_type": "code",
   "execution_count": null,
   "id": "ea64838c-a8fb-4bda-bd03-f4fc73963614",
   "metadata": {
    "papermill": {
     "duration": null,
     "end_time": null,
     "exception": null,
     "start_time": null,
     "status": "pending"
    },
    "tags": []
   },
   "outputs": [],
   "source": [
    "import ffmpeg"
   ]
  },
  {
   "cell_type": "code",
   "execution_count": null,
   "id": "11c10abd-bd53-40e0-b8d7-c955a82ec339",
   "metadata": {
    "papermill": {
     "duration": null,
     "end_time": null,
     "exception": null,
     "start_time": null,
     "status": "pending"
    },
    "tags": []
   },
   "outputs": [],
   "source": [
    "import torch"
   ]
  },
  {
   "cell_type": "code",
   "execution_count": null,
   "id": "7fdbbc1f-bca8-42c0-8139-b4a3cefca911",
   "metadata": {
    "papermill": {
     "duration": null,
     "end_time": null,
     "exception": null,
     "start_time": null,
     "status": "pending"
    },
    "tags": []
   },
   "outputs": [],
   "source": [
    "import sys"
   ]
  },
  {
   "cell_type": "code",
   "execution_count": null,
   "id": "109a7a86",
   "metadata": {
    "papermill": {
     "duration": null,
     "end_time": null,
     "exception": null,
     "start_time": null,
     "status": "pending"
    },
    "tags": []
   },
   "outputs": [],
   "source": [
    "from pathlib import Path\n",
    "import os"
   ]
  },
  {
   "cell_type": "code",
   "execution_count": null,
   "id": "d8e013e9-49dd-4794-9eb4-13f9faa403c7",
   "metadata": {
    "papermill": {
     "duration": null,
     "end_time": null,
     "exception": null,
     "start_time": null,
     "status": "pending"
    },
    "tags": []
   },
   "outputs": [],
   "source": [
    "!pip install git+https://github.com/source-separation/tutorial"
   ]
  },
  {
   "cell_type": "code",
   "execution_count": null,
   "id": "4ea69e83-d429-4c22-8987-9ee52a98c441",
   "metadata": {
    "papermill": {
     "duration": null,
     "end_time": null,
     "exception": null,
     "start_time": null,
     "status": "pending"
    },
    "tags": []
   },
   "outputs": [],
   "source": [
    "from common.models import MaskInference"
   ]
  },
  {
   "cell_type": "code",
   "execution_count": null,
   "id": "ddc02b43-872a-476e-8b05-6e97bb4ccc39",
   "metadata": {
    "papermill": {
     "duration": null,
     "end_time": null,
     "exception": null,
     "start_time": null,
     "status": "pending"
    },
    "tags": []
   },
   "outputs": [],
   "source": [
    "DEVICE = 'cuda' if torch.cuda.is_available() else 'cpu'"
   ]
  },
  {
   "cell_type": "code",
   "execution_count": null,
   "id": "f959a0a7-9205-436d-b539-8d672ae8ecf1",
   "metadata": {
    "papermill": {
     "duration": null,
     "end_time": null,
     "exception": null,
     "start_time": null,
     "status": "pending"
    },
    "tags": []
   },
   "outputs": [],
   "source": [
    "from nussl.core.audio_signal import STFTParams\n",
    "torch.serialization.add_safe_globals([STFTParams])"
   ]
  },
  {
   "cell_type": "code",
   "execution_count": null,
   "id": "050e0807-e84c-4a59-8b6b-72c0fa0447ad",
   "metadata": {
    "papermill": {
     "duration": null,
     "end_time": null,
     "exception": null,
     "start_time": null,
     "status": "pending"
    },
    "tags": []
   },
   "outputs": [],
   "source": [
    "from nussl.datasets.transforms import Compose\n",
    "torch.serialization.add_safe_globals([Compose])"
   ]
  },
  {
   "cell_type": "code",
   "execution_count": null,
   "id": "142165a5-f9e3-4052-804d-2647f1041b23",
   "metadata": {
    "papermill": {
     "duration": null,
     "end_time": null,
     "exception": null,
     "start_time": null,
     "status": "pending"
    },
    "tags": []
   },
   "outputs": [],
   "source": [
    "from nussl.datasets.transforms import SumSources\n",
    "torch.serialization.add_safe_globals([SumSources])"
   ]
  },
  {
   "cell_type": "code",
   "execution_count": null,
   "id": "399ca54a-f114-4673-959a-1697b8840cad",
   "metadata": {
    "papermill": {
     "duration": null,
     "end_time": null,
     "exception": null,
     "start_time": null,
     "status": "pending"
    },
    "tags": []
   },
   "outputs": [],
   "source": [
    "from nussl.datasets.transforms import MagnitudeSpectrumApproximation\n",
    "torch.serialization.add_safe_globals([MagnitudeSpectrumApproximation])"
   ]
  },
  {
   "cell_type": "code",
   "execution_count": null,
   "id": "62d02b60-36b8-4b77-81aa-23d01cb243a4",
   "metadata": {
    "papermill": {
     "duration": null,
     "end_time": null,
     "exception": null,
     "start_time": null,
     "status": "pending"
    },
    "tags": []
   },
   "outputs": [],
   "source": [
    "from nussl.datasets.transforms import IndexSources\n",
    "torch.serialization.add_safe_globals([IndexSources])"
   ]
  },
  {
   "cell_type": "code",
   "execution_count": null,
   "id": "61e8251b-1528-4df4-b9f3-68a9273bb4e5",
   "metadata": {
    "papermill": {
     "duration": null,
     "end_time": null,
     "exception": null,
     "start_time": null,
     "status": "pending"
    },
    "tags": []
   },
   "outputs": [],
   "source": [
    "from nussl.datasets.transforms import ToSeparationModel\n",
    "torch.serialization.add_safe_globals([ToSeparationModel])"
   ]
  },
  {
   "cell_type": "code",
   "execution_count": null,
   "id": "f929563f-4c1b-47ea-b1ad-4c2cdecd4be4",
   "metadata": {
    "papermill": {
     "duration": null,
     "end_time": null,
     "exception": null,
     "start_time": null,
     "status": "pending"
    },
    "tags": []
   },
   "outputs": [],
   "source": [
    "from numpy.core.multiarray import scalar \n",
    "torch.serialization.add_safe_globals([scalar])"
   ]
  },
  {
   "cell_type": "code",
   "execution_count": null,
   "id": "1e861684-53f4-48ea-8a76-58322cef4f1a",
   "metadata": {
    "papermill": {
     "duration": null,
     "end_time": null,
     "exception": null,
     "start_time": null,
     "status": "pending"
    },
    "tags": []
   },
   "outputs": [],
   "source": [
    "from numpy.dtypes import Float64DType\n",
    "torch.serialization.add_safe_globals([Float64DType])"
   ]
  },
  {
   "cell_type": "code",
   "execution_count": null,
   "id": "29e7f296-526a-44e4-94a5-7094a3cabe6c",
   "metadata": {
    "papermill": {
     "duration": null,
     "end_time": null,
     "exception": null,
     "start_time": null,
     "status": "pending"
    },
    "tags": []
   },
   "outputs": [],
   "source": [
    "import numpy as np \n",
    "torch.serialization.add_safe_globals([np.dtype])"
   ]
  },
  {
   "cell_type": "code",
   "execution_count": null,
   "id": "7f2fd9e4-f2c0-49b0-840b-c2dbab769ba4",
   "metadata": {
    "papermill": {
     "duration": null,
     "end_time": null,
     "exception": null,
     "start_time": null,
     "status": "pending"
    },
    "tags": []
   },
   "outputs": [],
   "source": [
    "separator = nussl.separation.deep.DeepMaskEstimation(\n",
    "    nussl.AudioSignal(), model_path='bad.model.pth',\n",
    "    device=DEVICE,\n",
    ")"
   ]
  },
  {
   "cell_type": "code",
   "execution_count": null,
   "id": "470daabd-fe10-4feb-8ab8-edec438d641e",
   "metadata": {
    "editable": true,
    "papermill": {
     "duration": null,
     "end_time": null,
     "exception": null,
     "start_time": null,
     "status": "pending"
    },
    "slideshow": {
     "slide_type": ""
    },
    "tags": [
     "parameters"
    ]
   },
   "outputs": [],
   "source": [
    "# tagged as parameters \n",
    "path = r\"C:\\Users\\rysul\\Downloads\\StarWars60.wav\""
   ]
  },
  {
   "cell_type": "code",
   "execution_count": null,
   "id": "ae31a901",
   "metadata": {
    "papermill": {
     "duration": null,
     "end_time": null,
     "exception": null,
     "start_time": null,
     "status": "pending"
    },
    "tags": [
     "injected-parameters"
    ]
   },
   "outputs": [],
   "source": [
    "# Parameters\n",
    "path = \"C:\\\\Users\\\\rysul\\\\Downloads\\\\Jim O'Rourke - Eureka - 08 Happy Holidays.mp3\"\n"
   ]
  },
  {
   "cell_type": "code",
   "execution_count": null,
   "id": "5263e4b1-f33e-4aed-a58e-426d3222e9a9",
   "metadata": {
    "editable": true,
    "papermill": {
     "duration": null,
     "end_time": null,
     "exception": null,
     "start_time": null,
     "status": "pending"
    },
    "slideshow": {
     "slide_type": ""
    },
    "tags": []
   },
   "outputs": [],
   "source": [
    "separator.audio_signal = nussl.AudioSignal(path)\n",
    "separator.run()"
   ]
  },
  {
   "cell_type": "code",
   "execution_count": null,
   "id": "12272dc6-5e43-49bd-ac5b-c8eb870813c6",
   "metadata": {
    "papermill": {
     "duration": null,
     "end_time": null,
     "exception": null,
     "start_time": null,
     "status": "pending"
    },
    "tags": []
   },
   "outputs": [],
   "source": [
    "audios = separator.make_audio_signals()\n",
    "source_names = ['vocals', 'bass', 'drums', 'other']\n",
    "index = 0\n",
    "for signal in audios :\n",
    "    source_output_file = f\"{source_names[index]}_{Path(path).stem}.wav\"\n",
    "    signal.write_audio_to_file(str(source_output_file))\n",
    "    print(f\"Saved {source_names[index]} as {source_output_file}\")\n",
    "    index = index + 1"
   ]
  },
  {
   "cell_type": "code",
   "execution_count": null,
   "id": "d57507cb-e1e1-4d56-92bd-b3ec59bd909e",
   "metadata": {
    "papermill": {
     "duration": null,
     "end_time": null,
     "exception": null,
     "start_time": null,
     "status": "pending"
    },
    "tags": []
   },
   "outputs": [],
   "source": []
  }
 ],
 "metadata": {
  "kernelspec": {
   "display_name": "Python 3",
   "language": "python",
   "name": "python3"
  },
  "language_info": {
   "codemirror_mode": {
    "name": "ipython",
    "version": 3
   },
   "file_extension": ".py",
   "mimetype": "text/x-python",
   "name": "python",
   "nbconvert_exporter": "python",
   "pygments_lexer": "ipython3",
   "version": "3.11.5"
  },
  "papermill": {
   "default_parameters": {},
   "duration": null,
   "end_time": null,
   "environment_variables": {},
   "exception": null,
   "input_path": "RunModelNB.ipynb",
   "output_path": "output_notebook.ipynb",
   "parameters": {
    "path": "C:\\Users\\rysul\\Downloads\\Jim O'Rourke - Eureka - 08 Happy Holidays.mp3"
   },
   "start_time": "2025-04-15T20:23:18.014049",
   "version": "2.6.0"
  }
 },
 "nbformat": 4,
 "nbformat_minor": 5
}