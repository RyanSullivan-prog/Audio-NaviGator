{
 "cells": [
  {
   "cell_type": "code",
   "execution_count": 7,
   "id": "e7bb8ca6-9f91-4caa-81ea-3cda021c9352",
   "metadata": {},
   "outputs": [
    {
     "name": "stdout",
     "output_type": "stream",
     "text": [
      "Requirement already satisfied: ffmpeg-python in c:\\users\\angel\\anaconda3\\lib\\site-packages (0.2.0)\n",
      "Requirement already satisfied: future in c:\\users\\angel\\anaconda3\\lib\\site-packages (from ffmpeg-python) (0.18.3)\n"
     ]
    }
   ],
   "source": [
    "!pip install ffmpeg-python"
   ]
  },
  {
   "cell_type": "code",
   "execution_count": 8,
   "id": "8fe9e1d9-7de4-4fd9-a94d-2a2ea2197734",
   "metadata": {},
   "outputs": [],
   "source": [
    "import ffmpeg"
   ]
  },
  {
   "cell_type": "code",
   "execution_count": 9,
   "id": "28e6c0bb-09b8-4a30-bd17-674921a3ae96",
   "metadata": {},
   "outputs": [],
   "source": [
    "import sys "
   ]
  },
  {
   "cell_type": "code",
   "execution_count": 10,
   "id": "d5bdaf66-02dc-4cab-b2df-479c31055c2a",
   "metadata": {},
   "outputs": [],
   "source": [
    "import nussl "
   ]
  },
  {
   "cell_type": "code",
   "execution_count": 11,
   "id": "5cabaa69-5f7c-4627-8cc7-f28438e77d5b",
   "metadata": {},
   "outputs": [],
   "source": [
    "musdb = nussl.datasets.MUSDB18(download=True)"
   ]
  },
  {
   "cell_type": "code",
   "execution_count": 12,
   "id": "1d7b89f9-0d71-43e7-80fd-ae4664e46938",
   "metadata": {},
   "outputs": [],
   "source": [
    "from common import data "
   ]
  },
  {
   "cell_type": "code",
   "execution_count": 13,
   "id": "3a2e24a2-0844-477b-95c0-c7813b00f453",
   "metadata": {},
   "outputs": [
    {
     "name": "stderr",
     "output_type": "stream",
     "text": [
      "100%|██████████████████████████████████████████████████████████████████████████████████| 80/80 [00:53<00:00,  1.50it/s]\n",
      "100%|██████████████████████████████████████████████████████████████████████████████████| 14/14 [00:09<00:00,  1.53it/s]\n",
      "100%|██████████████████████████████████████████████████████████████████████████████████| 50/50 [00:34<00:00,  1.46it/s]\n"
     ]
    }
   ],
   "source": [
    "data.prepare_musdb('~/.nussl/tutorial/')"
   ]
  },
  {
   "cell_type": "code",
   "execution_count": 14,
   "id": "4b44bae6-a38e-42c4-a7d6-d23a77ed36fd",
   "metadata": {},
   "outputs": [],
   "source": [
    "stft_params = nussl.STFTParams(window_length=512, hop_length=128, window_type='sqrt_hann')\n",
    "fg_path = \"~/.nussl/tutorial/train\"\n",
    "train_data = data.on_the_fly(stft_params, transform=None, fg_path=fg_path, num_mixtures=1000, coherent_prob=1.0)"
   ]
  },
  {
   "cell_type": "code",
   "execution_count": 15,
   "id": "0f93dc09-0b74-458c-9f0b-ee2d6055bb34",
   "metadata": {},
   "outputs": [],
   "source": [
    "fg_path = \"~/.nussl/tutorial/valid\"\n",
    "val_data = data.on_the_fly(stft_params, transform=None, fg_path=fg_path, num_mixtures=500)\n",
    "\n",
    "fg_path = \"~/.nussl/tutorial/test\"\n",
    "test_data = data.on_the_fly(stft_params, transform=None, fg_path=fg_path, num_mixtures=100)"
   ]
  },
  {
   "cell_type": "code",
   "execution_count": 16,
   "id": "39df8266-ab6e-4f0b-b26d-9ee9002e42e3",
   "metadata": {},
   "outputs": [],
   "source": [
    "nussl_tfm = nussl.datasets.transforms\n",
    "tfm = nussl_tfm.Compose([\n",
    "    nussl_tfm.MagnitudeSpectrumApproximation(),\n",
    "    nussl_tfm.IndexSources('source_magnitudes', 1),\n",
    "    nussl_tfm.ToSeparationModel(),\n",
    "])"
   ]
  },
  {
   "cell_type": "code",
   "execution_count": 17,
   "id": "e4a39f67-9163-48fc-af0e-56eda8ff554f",
   "metadata": {},
   "outputs": [
    {
     "name": "stdout",
     "output_type": "stream",
     "text": [
      "Item from train data\n",
      "index <class 'int'>\n",
      "mix_magnitude <class 'torch.Tensor'>\n",
      "ideal_binary_mask <class 'torch.Tensor'>\n",
      "source_magnitudes <class 'torch.Tensor'>\n"
     ]
    }
   ],
   "source": [
    "fg_path = \"~/.nussl/tutorial/train\"\n",
    "train_data = data.on_the_fly(stft_params, transform=tfm, fg_path=fg_path, num_mixtures=1000, coherent_prob=1.0)\n",
    "\n",
    "item = train_data[0]\n",
    "print(\"Item from train data\")\n",
    "for key in item:\n",
    "    print(key, type(item[key]))\n",
    "\n",
    "fg_path = \"~/.nussl/tutorial/valid\"\n",
    "val_data = data.on_the_fly(stft_params, transform=tfm, fg_path=fg_path, num_mixtures=500)\n",
    "\n",
    "test_tfm = nussl_tfm.Compose([])\n",
    "\n",
    "fg_path = \"~/.nussl/tutorial/test\"\n",
    "test_data = data.on_the_fly(stft_params, transform=test_tfm, fg_path=fg_path, num_mixtures=100)"
   ]
  },
  {
   "cell_type": "code",
   "execution_count": 18,
   "id": "d27758a9-a77a-4086-8d41-1283f5d9b58d",
   "metadata": {},
   "outputs": [
    {
     "name": "stderr",
     "output_type": "stream",
     "text": [
      "C:\\Users\\Angel\\anaconda3\\Lib\\site-packages\\torch\\nn\\modules\\loss.py:128: UserWarning: Using a target size (torch.Size([10, 1724, 257, 1, 1])) that is different to the input size (torch.Size([10, 1724, 257, 1, 4])). This will likely lead to incorrect results due to broadcasting. Please ensure they have the same size.\n",
      "  return F.l1_loss(input, target, reduction=self.reduction)\n"
     ]
    },
    {
     "data": {
      "text/plain": [
       "State:\n",
       "\titeration: 50\n",
       "\tepoch: 5\n",
       "\tepoch_length: 10\n",
       "\tmax_epochs: 5\n",
       "\toutput: <class 'dict'>\n",
       "\tbatch: <class 'dict'>\n",
       "\tmetrics: <class 'dict'>\n",
       "\tdataloader: <class 'torch.utils.data.dataloader.DataLoader'>\n",
       "\tseed: <class 'NoneType'>\n",
       "\ttimes: <class 'dict'>\n",
       "\tepoch_history: <class 'dict'>\n",
       "\titer_history: <class 'dict'>\n",
       "\tpast_iter_history: <class 'dict'>\n",
       "\tsaved_model_path: C:\\Users\\Angel\\Documents\\School\\Senior Project\\checkpoints\\best.model.pth\n",
       "\toutput_folder: <class 'pathlib.WindowsPath'>"
      ]
     },
     "execution_count": 18,
     "metadata": {},
     "output_type": "execute_result"
    }
   ],
   "source": [
    "import nussl\n",
    "import torch\n",
    "from nussl.datasets import transforms as nussl_tfm\n",
    "from common.models import MaskInference\n",
    "from common import utils, data\n",
    "from pathlib import Path\n",
    "\n",
    "utils.logger()\n",
    "DEVICE = 'cuda' if torch.cuda.is_available() else 'cpu'\n",
    "MAX_MIXTURES = int(1e8) # We'll set this to some impossibly high number for on the fly mixing.\n",
    "\n",
    "stft_params = nussl.STFTParams(window_length=512, hop_length=128)\n",
    "\n",
    "tfm = nussl_tfm.Compose([\n",
    "    nussl_tfm.MagnitudeSpectrumApproximation(),\n",
    "    nussl_tfm.IndexSources('source_magnitudes', 1),\n",
    "    nussl_tfm.ToSeparationModel(),\n",
    "])\n",
    "\n",
    "train_folder = \"~/.nussl/tutorial/train\"\n",
    "val_folder = \"~/.nussl/tutorial/valid\"\n",
    "\n",
    "train_data = data.on_the_fly(stft_params, transform=tfm, \n",
    "    fg_path=train_folder, num_mixtures=MAX_MIXTURES, coherent_prob=1.0)\n",
    "train_dataloader = torch.utils.data.DataLoader(\n",
    "    train_data, num_workers=1, batch_size=10)\n",
    "\n",
    "val_data = data.on_the_fly(stft_params, transform=tfm, \n",
    "    fg_path=val_folder, num_mixtures=10, coherent_prob=1.0)\n",
    "val_dataloader = torch.utils.data.DataLoader(\n",
    "    val_data, num_workers=1, batch_size=10)\n",
    "\n",
    "nf = stft_params.window_length // 2 + 1\n",
    "model = MaskInference.build(nf, 1, 50, 1, True, 0.0, 4, 'sigmoid')\n",
    "optimizer = torch.optim.Adam(model.parameters(), lr=1e-3)\n",
    "loss_fn = nussl.ml.train.loss.L1Loss()\n",
    "\n",
    "def train_step(engine, batch):\n",
    "    optimizer.zero_grad()\n",
    "    output = model(batch) # forward pass\n",
    "    loss = loss_fn(\n",
    "        output['estimates'],\n",
    "        batch['source_magnitudes']\n",
    "    )\n",
    "    \n",
    "    loss.backward() # backwards + gradient step\n",
    "    optimizer.step()\n",
    "    \n",
    "    loss_vals = {\n",
    "        'L1Loss': loss.item(),\n",
    "        'loss': loss.item()\n",
    "    }\n",
    "    \n",
    "    return loss_vals\n",
    "\n",
    "def val_step(engine, batch):\n",
    "    with torch.no_grad():\n",
    "        output = model(batch) # forward pass\n",
    "    loss = loss_fn(\n",
    "        output['estimates'],\n",
    "        batch['source_magnitudes']\n",
    "    )    \n",
    "    loss_vals = {\n",
    "        'L1Loss': loss.item(), \n",
    "        'loss': loss.item()\n",
    "    }\n",
    "    return loss_vals\n",
    "\n",
    "# Create the engines\n",
    "trainer, validator = nussl.ml.train.create_train_and_validation_engines(\n",
    "    train_step, val_step, device=DEVICE\n",
    ")\n",
    "\n",
    "# We'll save the output relative to this notebook.\n",
    "output_folder = Path('.').absolute()\n",
    "\n",
    "# Adding handlers from nussl that print out details about model training\n",
    "# run the validation step, and save the models.\n",
    "nussl.ml.train.add_stdout_handler(trainer, validator)\n",
    "nussl.ml.train.add_validate_and_checkpoint(output_folder, model, \n",
    "    optimizer, train_data, trainer, val_dataloader, validator)\n",
    "\n",
    "trainer.run(\n",
    "    train_dataloader, \n",
    "    epoch_length=10, \n",
    "    max_epochs=5\n",
    ")"
   ]
  },
  {
   "cell_type": "code",
   "execution_count": 19,
   "id": "30bce12e-e5df-48ac-bdf2-d9628c6f3c24",
   "metadata": {},
   "outputs": [],
   "source": [
    "from nussl.core.audio_signal import STFTParams\n",
    "torch.serialization.add_safe_globals([STFTParams])"
   ]
  },
  {
   "cell_type": "code",
   "execution_count": 20,
   "id": "7f124f05-bf86-484a-896a-34cce9d4476e",
   "metadata": {},
   "outputs": [],
   "source": [
    "from nussl.datasets.transforms import Compose\n",
    "torch.serialization.add_safe_globals([Compose])"
   ]
  },
  {
   "cell_type": "code",
   "execution_count": 21,
   "id": "4eddaddc-b734-4460-bbf8-9cf5a93dd58c",
   "metadata": {},
   "outputs": [],
   "source": [
    "from nussl.datasets.transforms import SumSources\n",
    "torch.serialization.add_safe_globals([SumSources])"
   ]
  },
  {
   "cell_type": "code",
   "execution_count": 22,
   "id": "cb86e14e-fef4-4ff4-b724-ccfa3c9d96c8",
   "metadata": {},
   "outputs": [],
   "source": [
    "from nussl.datasets.transforms import MagnitudeSpectrumApproximation\n",
    "torch.serialization.add_safe_globals([MagnitudeSpectrumApproximation])"
   ]
  },
  {
   "cell_type": "code",
   "execution_count": 23,
   "id": "8206aa33-7201-4fe9-88de-c7691ef67afd",
   "metadata": {},
   "outputs": [],
   "source": [
    "from nussl.datasets.transforms import IndexSources\n",
    "torch.serialization.add_safe_globals([IndexSources])"
   ]
  },
  {
   "cell_type": "code",
   "execution_count": 24,
   "id": "0466d2b2-5f9e-45e1-ad7c-f131756834c9",
   "metadata": {},
   "outputs": [],
   "source": [
    "from nussl.datasets.transforms import ToSeparationModel\n",
    "torch.serialization.add_safe_globals([ToSeparationModel])"
   ]
  },
  {
   "cell_type": "code",
   "execution_count": 25,
   "id": "b9ad443a-b679-4a44-b648-78dde8269bce",
   "metadata": {},
   "outputs": [],
   "source": [
    "from numpy.core.multiarray import scalar \n",
    "torch.serialization.add_safe_globals([scalar])"
   ]
  },
  {
   "cell_type": "code",
   "execution_count": 26,
   "id": "91a46aa6-a73a-4a84-9ad3-5b97533f5a02",
   "metadata": {},
   "outputs": [],
   "source": [
    "from numpy.dtypes import Float64DType\n",
    "torch.serialization.add_safe_globals([Float64DType])"
   ]
  },
  {
   "cell_type": "code",
   "execution_count": 27,
   "id": "a530cfc4-2524-4bf5-af67-a76be1d7ae3a",
   "metadata": {},
   "outputs": [],
   "source": [
    "import numpy as np \n",
    "torch.serialization.add_safe_globals([np.dtype])"
   ]
  },
  {
   "cell_type": "code",
   "execution_count": 28,
   "id": "cd1e7006-92fa-4048-a2eb-b705964e2e5a",
   "metadata": {},
   "outputs": [
    {
     "name": "stderr",
     "output_type": "stream",
     "text": [
      "C:\\Users\\Angel\\anaconda3\\Lib\\site-packages\\nussl\\separation\\base\\separation_base.py:73: UserWarning: input_audio_signal has no data!\n",
      "  warnings.warn('input_audio_signal has no data!')\n",
      "C:\\Users\\Angel\\anaconda3\\Lib\\site-packages\\nussl\\core\\audio_signal.py:455: UserWarning: Initializing STFT with data that is non-complex. This might lead to weird results!\n",
      "  warnings.warn('Initializing STFT with data that is non-complex. '\n"
     ]
    }
   ],
   "source": [
    "separator_dme = nussl.separation.deep.DeepMaskEstimation(\n",
    "    nussl.AudioSignal(), model_path='checkpoints/best.model.pth',\n",
    "    device=DEVICE,\n",
    ")"
   ]
  },
  {
   "cell_type": "code",
   "execution_count": 29,
   "id": "5553ec31-3b3b-4a65-afae-fe0ab4e1cf61",
   "metadata": {},
   "outputs": [
    {
     "data": {
      "text/plain": [
       "[<nussl.core.masks.soft_mask.SoftMask at 0x1a999f19ad0>,\n",
       " <nussl.core.masks.soft_mask.SoftMask at 0x1a999f3cc90>,\n",
       " <nussl.core.masks.soft_mask.SoftMask at 0x1a8f16ca410>,\n",
       " <nussl.core.masks.soft_mask.SoftMask at 0x1a8f1c04cd0>]"
      ]
     },
     "execution_count": 29,
     "metadata": {},
     "output_type": "execute_result"
    }
   ],
   "source": [
    "tfm = nussl_tfm.Compose([\n",
    "])\n",
    "test_dataset = nussl.datasets.MUSDB18(subsets=['test'], transform=tfm)\n",
    "separator_dme.audio_signal = test_dataset[0]['mix']\n",
    "separator_dme.run()"
   ]
  },
  {
   "cell_type": "code",
   "execution_count": 30,
   "id": "efed22b4-7a32-480a-8bc2-7ed10ea5f4c0",
   "metadata": {},
   "outputs": [],
   "source": [
    "import matplotlib.pyplot as plt\n",
    "def visualize_signals(signals, labels, colors):\n",
    "    from common import viz \n",
    "    fig, axes = plt.subplots()\n",
    "    t = np.linspace(0, 7, 600064, False)\n",
    "    index = 0\n",
    "    for signal in signals:\n",
    "        plt.plot(t, signal.audio_data.flatten(), color=colors[index], alpha=0.5, label=labels[index])\n",
    "        index = index + 1\n",
    "    plt.tight_layout()\n",
    "    plt.legend()\n",
    "    plt.show()"
   ]
  },
  {
   "cell_type": "code",
   "execution_count": 31,
   "id": "2e9e0353-85c1-4c0b-9fa5-cdea24fb16fa",
   "metadata": {},
   "outputs": [],
   "source": [
    "audios = separator_dme.make_audio_signals()"
   ]
  },
  {
   "cell_type": "code",
   "execution_count": 32,
   "id": "9264e66a-2d76-4052-83a1-ef83c6827ae7",
   "metadata": {},
   "outputs": [
    {
     "data": {
      "image/png": "[encoded data removed]",
      "text/plain": [
       "<Figure size 640x480 with 1 Axes>"
      ]
     },
     "metadata": {},
     "output_type": "display_data"
    }
   ],
   "source": [
    "labels = ['Vocals', 'Bass', 'Drums', 'Other']\n",
    "colors = ['red', 'blue', 'yellow', 'black']\n",
    "visualize_signals(audios, labels, colors)"
   ]
  },
  {
   "cell_type": "code",
   "execution_count": 33,
   "id": "2976bf94-28c4-4503-a3c6-6a0fa9b79939",
   "metadata": {},
   "outputs": [],
   "source": [
    "import sys\n",
    "# getting path of file passed in \n",
    "if len(sys.argv) > 1 :\n",
    "    path = sys.argv[1][0]"
   ]
  },
  {
   "cell_type": "code",
   "execution_count": 36,
   "id": "ba9977fd-f4f8-4898-9867-bf75728613f7",
   "metadata": {},
   "outputs": [
    {
     "data": {
      "text/plain": [
       "[<nussl.core.masks.soft_mask.SoftMask at 0x1a8f1720350>,\n",
       " <nussl.core.masks.soft_mask.SoftMask at 0x1a9aff0fe90>,\n",
       " <nussl.core.masks.soft_mask.SoftMask at 0x1a8f1c057d0>,\n",
       " <nussl.core.masks.soft_mask.SoftMask at 0x1a8f174fb90>]"
      ]
     },
     "execution_count": 36,
     "metadata": {},
     "output_type": "execute_result"
    }
   ],
   "source": [
    "import nussl\n",
    "#path = \"1_AM Contra - Heart Peripheral.wav\"\n",
    "separator_dme.audio_signal = nussl.AudioSignal(path)\n",
    "separator_dme.run()"
   ]
  },
  {
   "cell_type": "code",
   "execution_count": 38,
   "id": "bf933e7b-3183-470a-8350-70a84a2f1d5f",
   "metadata": {},
   "outputs": [
    {
     "name": "stdout",
     "output_type": "stream",
     "text": [
      "Saved vocals as vocals_1_AM Contra - Heart Peripheral.wav\n",
      "Saved bass as bass_1_AM Contra - Heart Peripheral.wav\n",
      "Saved drums as drums_1_AM Contra - Heart Peripheral.wav\n",
      "Saved other as other_1_AM Contra - Heart Peripheral.wav\n"
     ]
    }
   ],
   "source": [
    "audios = separator_dme.make_audio_signals()\n",
    "source_names = ['vocals', 'bass', 'drums', 'other']\n",
    "index = 0\n",
    "for signal in audios :\n",
    "    source_output_file = f\"{source_names[index]}_{path}\"\n",
    "    signal.write_audio_to_file(str(source_output_file))\n",
    "    print(f\"Saved {source_names[index]} as {source_output_file}\")\n",
    "    index = index + 1"
   ]
  },
  {
   "cell_type": "code",
   "execution_count": null,
   "id": "05f875d3-ac27-4e5d-a2cc-af1e616ba0f8",
   "metadata": {},
   "outputs": [],
   "source": []
  }
 ],
 "metadata": {
  "kernelspec": {
   "display_name": "Python 3 (ipykernel)",
   "language": "python",
   "name": "python3"
  },
  "language_info": {
   "codemirror_mode": {
    "name": "ipython",
    "version": 3
   },
   "file_extension": ".py",
   "mimetype": "text/x-python",
   "name": "python",
   "nbconvert_exporter": "python",
   "pygments_lexer": "ipython3",
   "version": "3.11.7"
  }
 },
 "nbformat": 4,
 "nbformat_minor": 5
}
