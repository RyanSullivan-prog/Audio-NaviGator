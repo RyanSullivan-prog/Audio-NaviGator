{
 "cells": [
  {
   "cell_type": "code",
   "execution_count": 1,
   "id": "600f9039-d80c-4abf-ac6d-bbd04f9c3315",
   "metadata": {},
   "outputs": [
    {
     "name": "stdout",
     "output_type": "stream",
     "text": [
      "Writing requirements.txt\n"
     ]
    }
   ],
   "source": [
    "%%writefile requirements.txt\n",
    "pandas==2.1.4\n",
    "matplotlib==3.8.0\n",
    "numpy==1.26.4\n",
    "nussl==1.1.9\n",
    "ffmpeg-python==0.2.0\n",
    "torch==2.6.0\n",
    "scipy==1.11.4"
   ]
  },
  {
   "cell_type": "code",
   "execution_count": 1,
   "id": "1e54f02d-036d-4cf9-a917-4e258ae1f394",
   "metadata": {},
   "outputs": [
    {
     "name": "stderr",
     "output_type": "stream",
     "text": [
      "ERROR: Could not open requirements file: [Errno 2] No such file or directory: 'requirements.txt'\n"
     ]
    }
   ],
   "source": [
    "!pip install -r requirements.txt"
   ]
  },
  {
   "cell_type": "code",
   "execution_count": 4,
   "id": "42a0d441-7a04-40c6-bc53-393bf192a2ac",
   "metadata": {},
   "outputs": [],
   "source": [
    "import nussl"
   ]
  },
  {
   "cell_type": "code",
   "execution_count": 5,
   "id": "ea64838c-a8fb-4bda-bd03-f4fc73963614",
   "metadata": {},
   "outputs": [],
   "source": [
    "import ffmpeg"
   ]
  },
  {
   "cell_type": "code",
   "execution_count": 6,
   "id": "11c10abd-bd53-40e0-b8d7-c955a82ec339",
   "metadata": {},
   "outputs": [],
   "source": [
    "import torch"
   ]
  },
  {
   "cell_type": "code",
   "execution_count": 9,
   "id": "7fdbbc1f-bca8-42c0-8139-b4a3cefca911",
   "metadata": {},
   "outputs": [],
   "source": [
    "import sys"
   ]
  },
  {
   "cell_type": "code",
   "execution_count": 12,
   "id": "d8e013e9-49dd-4794-9eb4-13f9faa403c7",
   "metadata": {},
   "outputs": [
    {
     "name": "stdout",
     "output_type": "stream",
     "text": [
      "Collecting git+https://github.com/source-separation/tutorial\n",
      "  Cloning https://github.com/source-separation/tutorial to c:\\users\\angel\\appdata\\local\\temp\\pip-req-build-ahvgw4l4\n",
      "  Resolved https://github.com/source-separation/tutorial to commit f8d693685927a4f4ea1f0d12c0a2ac6df8763fdd\n",
      "  Preparing metadata (setup.py): started\n",
      "  Preparing metadata (setup.py): finished with status 'done'\n",
      "Requirement already satisfied: jupyter-book in c:\\users\\angel\\anaconda3\\lib\\site-packages (from common==0.1.0) (1.0.4.post1)\n",
      "Requirement already satisfied: jupyterlab in c:\\users\\angel\\anaconda3\\lib\\site-packages (from common==0.1.0) (4.0.11)\n",
      "Requirement already satisfied: matplotlib in c:\\users\\angel\\anaconda3\\lib\\site-packages (from common==0.1.0) (3.8.0)\n",
      "Requirement already satisfied: numpy in c:\\users\\angel\\anaconda3\\lib\\site-packages (from common==0.1.0) (1.26.4)\n",
      "Requirement already satisfied: librosa in c:\\users\\angel\\anaconda3\\lib\\site-packages (from common==0.1.0) (0.10.2.post1)\n",
      "Requirement already satisfied: nussl in c:\\users\\angel\\anaconda3\\lib\\site-packages (from common==0.1.0) (1.1.9)\n",
      "Requirement already satisfied: scaper==1.6.4 in c:\\users\\angel\\anaconda3\\lib\\site-packages (from common==0.1.0) (1.6.4)\n",
      "Requirement already satisfied: numpydoc in c:\\users\\angel\\anaconda3\\lib\\site-packages (from common==0.1.0) (1.5.0)\n",
      "Requirement already satisfied: pyyaml in c:\\users\\angel\\anaconda3\\lib\\site-packages (from common==0.1.0) (6.0.1)\n",
      "Requirement already satisfied: gradio in c:\\users\\angel\\anaconda3\\lib\\site-packages (from common==0.1.0) (5.20.1)\n",
      "Requirement already satisfied: gif in c:\\users\\angel\\anaconda3\\lib\\site-packages (from common==0.1.0) (23.3.0)\n",
      "Requirement already satisfied: pyloudnorm in c:\\users\\angel\\anaconda3\\lib\\site-packages (from common==0.1.0) (0.1.1)\n",
      "Requirement already satisfied: sox==1.4.0 in c:\\users\\angel\\anaconda3\\lib\\site-packages (from scaper==1.6.4->common==0.1.0) (1.4.0)\n",
      "Requirement already satisfied: jams>=0.3.2 in c:\\users\\angel\\anaconda3\\lib\\site-packages (from scaper==1.6.4->common==0.1.0) (0.3.4)\n",
      "Requirement already satisfied: soundfile in c:\\users\\angel\\anaconda3\\lib\\site-packages (from scaper==1.6.4->common==0.1.0) (0.13.1)\n",
      "Requirement already satisfied: Pillow>=9.1 in c:\\users\\angel\\anaconda3\\lib\\site-packages (from gif->common==0.1.0) (10.2.0)\n",
      "Requirement already satisfied: contourpy>=1.0.1 in c:\\users\\angel\\anaconda3\\lib\\site-packages (from matplotlib->common==0.1.0) (1.2.0)\n",
      "Requirement already satisfied: cycler>=0.10 in c:\\users\\angel\\anaconda3\\lib\\site-packages (from matplotlib->common==0.1.0) (0.11.0)\n",
      "Requirement already satisfied: fonttools>=4.22.0 in c:\\users\\angel\\anaconda3\\lib\\site-packages (from matplotlib->common==0.1.0) (4.25.0)\n",
      "Requirement already satisfied: kiwisolver>=1.0.1 in c:\\users\\angel\\anaconda3\\lib\\site-packages (from matplotlib->common==0.1.0) (1.4.4)\n",
      "Requirement already satisfied: packaging>=20.0 in c:\\users\\angel\\anaconda3\\lib\\site-packages (from matplotlib->common==0.1.0) (23.1)\n",
      "Requirement already satisfied: pyparsing>=2.3.1 in c:\\users\\angel\\anaconda3\\lib\\site-packages (from matplotlib->common==0.1.0) (3.0.9)\n",
      "Requirement already satisfied: python-dateutil>=2.7 in c:\\users\\angel\\anaconda3\\lib\\site-packages (from matplotlib->common==0.1.0) (2.8.2)\n",
      "Requirement already satisfied: aiofiles<24.0,>=22.0 in c:\\users\\angel\\anaconda3\\lib\\site-packages (from gradio->common==0.1.0) (23.2.1)\n",
      "Requirement already satisfied: anyio<5.0,>=3.0 in c:\\users\\angel\\anaconda3\\lib\\site-packages (from gradio->common==0.1.0) (4.2.0)\n",
      "Requirement already satisfied: fastapi<1.0,>=0.115.2 in c:\\users\\angel\\anaconda3\\lib\\site-packages (from gradio->common==0.1.0) (0.115.11)\n",
      "Requirement already satisfied: ffmpy in c:\\users\\angel\\anaconda3\\lib\\site-packages (from gradio->common==0.1.0) (0.5.0)\n",
      "Requirement already satisfied: gradio-client==1.7.2 in c:\\users\\angel\\anaconda3\\lib\\site-packages (from gradio->common==0.1.0) (1.7.2)\n",
      "Requirement already satisfied: groovy~=0.1 in c:\\users\\angel\\anaconda3\\lib\\site-packages (from gradio->common==0.1.0) (0.1.2)\n",
      "Requirement already satisfied: httpx>=0.24.1 in c:\\users\\angel\\anaconda3\\lib\\site-packages (from gradio->common==0.1.0) (0.28.1)\n",
      "Requirement already satisfied: huggingface-hub>=0.28.1 in c:\\users\\angel\\anaconda3\\lib\\site-packages (from gradio->common==0.1.0) (0.29.2)\n",
      "Requirement already satisfied: jinja2<4.0 in c:\\users\\angel\\anaconda3\\lib\\site-packages (from gradio->common==0.1.0) (3.1.3)\n",
      "Requirement already satisfied: markupsafe~=2.0 in c:\\users\\angel\\anaconda3\\lib\\site-packages (from gradio->common==0.1.0) (2.1.3)\n",
      "Requirement already satisfied: orjson~=3.0 in c:\\users\\angel\\anaconda3\\lib\\site-packages (from gradio->common==0.1.0) (3.10.15)\n",
      "Requirement already satisfied: pandas<3.0,>=1.0 in c:\\users\\angel\\anaconda3\\lib\\site-packages (from gradio->common==0.1.0) (2.1.4)\n",
      "Requirement already satisfied: pydantic>=2.0 in c:\\users\\angel\\anaconda3\\lib\\site-packages (from gradio->common==0.1.0) (2.10.6)\n",
      "Requirement already satisfied: pydub in c:\\users\\angel\\anaconda3\\lib\\site-packages (from gradio->common==0.1.0) (0.25.1)\n",
      "Requirement already satisfied: python-multipart>=0.0.18 in c:\\users\\angel\\anaconda3\\lib\\site-packages (from gradio->common==0.1.0) (0.0.20)\n",
      "Requirement already satisfied: ruff>=0.9.3 in c:\\users\\angel\\anaconda3\\lib\\site-packages (from gradio->common==0.1.0) (0.9.9)\n",
      "Requirement already satisfied: safehttpx<0.2.0,>=0.1.6 in c:\\users\\angel\\anaconda3\\lib\\site-packages (from gradio->common==0.1.0) (0.1.6)\n",
      "Requirement already satisfied: semantic-version~=2.0 in c:\\users\\angel\\anaconda3\\lib\\site-packages (from gradio->common==0.1.0) (2.10.0)\n",
      "Requirement already satisfied: starlette<1.0,>=0.40.0 in c:\\users\\angel\\anaconda3\\lib\\site-packages (from gradio->common==0.1.0) (0.46.0)\n",
      "Requirement already satisfied: tomlkit<0.14.0,>=0.12.0 in c:\\users\\angel\\anaconda3\\lib\\site-packages (from gradio->common==0.1.0) (0.13.2)\n",
      "Requirement already satisfied: typer<1.0,>=0.12 in c:\\users\\angel\\anaconda3\\lib\\site-packages (from gradio->common==0.1.0) (0.15.2)\n",
      "Requirement already satisfied: typing-extensions~=4.0 in c:\\users\\angel\\anaconda3\\lib\\site-packages (from gradio->common==0.1.0) (4.12.2)\n",
      "Requirement already satisfied: uvicorn>=0.14.0 in c:\\users\\angel\\anaconda3\\lib\\site-packages (from gradio->common==0.1.0) (0.34.0)\n",
      "Requirement already satisfied: fsspec in c:\\users\\angel\\anaconda3\\lib\\site-packages (from gradio-client==1.7.2->gradio->common==0.1.0) (2023.10.0)\n",
      "Requirement already satisfied: websockets<16.0,>=10.0 in c:\\users\\angel\\anaconda3\\lib\\site-packages (from gradio-client==1.7.2->gradio->common==0.1.0) (15.0.1)\n",
      "Requirement already satisfied: click<9,>=7.1 in c:\\users\\angel\\anaconda3\\lib\\site-packages (from jupyter-book->common==0.1.0) (8.1.7)\n",
      "Requirement already satisfied: jsonschema<5 in c:\\users\\angel\\anaconda3\\lib\\site-packages (from jupyter-book->common==0.1.0) (4.19.2)\n",
      "Requirement already satisfied: linkify-it-py<3,>=2 in c:\\users\\angel\\anaconda3\\lib\\site-packages (from jupyter-book->common==0.1.0) (2.0.0)\n",
      "Requirement already satisfied: myst-nb~=1.0 in c:\\users\\angel\\anaconda3\\lib\\site-packages (from jupyter-book->common==0.1.0) (1.2.0)\n",
      "Requirement already satisfied: myst-parser~=3.0 in c:\\users\\angel\\anaconda3\\lib\\site-packages (from jupyter-book->common==0.1.0) (3.0.1)\n",
      "Requirement already satisfied: sphinx-book-theme~=1.1 in c:\\users\\angel\\anaconda3\\lib\\site-packages (from jupyter-book->common==0.1.0) (1.1.4)\n",
      "Requirement already satisfied: sphinx-comments~=0.0 in c:\\users\\angel\\anaconda3\\lib\\site-packages (from jupyter-book->common==0.1.0) (0.0.3)\n",
      "Requirement already satisfied: sphinx-copybutton~=0.5 in c:\\users\\angel\\anaconda3\\lib\\site-packages (from jupyter-book->common==0.1.0) (0.5.2)\n",
      "Requirement already satisfied: sphinx-design~=0.6 in c:\\users\\angel\\anaconda3\\lib\\site-packages (from jupyter-book->common==0.1.0) (0.6.1)\n",
      "Requirement already satisfied: sphinx-external-toc~=1.0 in c:\\users\\angel\\anaconda3\\lib\\site-packages (from jupyter-book->common==0.1.0) (1.0.1)\n",
      "Requirement already satisfied: sphinx-jupyterbook-latex~=1.0 in c:\\users\\angel\\anaconda3\\lib\\site-packages (from jupyter-book->common==0.1.0) (1.0.0)\n",
      "Requirement already satisfied: sphinx-multitoc-numbering~=0.1 in c:\\users\\angel\\anaconda3\\lib\\site-packages (from jupyter-book->common==0.1.0) (0.1.3)\n",
      "Requirement already satisfied: sphinx-thebe~=0.3 in c:\\users\\angel\\anaconda3\\lib\\site-packages (from jupyter-book->common==0.1.0) (0.3.1)\n",
      "Requirement already satisfied: sphinx-togglebutton~=0.3 in c:\\users\\angel\\anaconda3\\lib\\site-packages (from jupyter-book->common==0.1.0) (0.3.2)\n",
      "Requirement already satisfied: sphinxcontrib-bibtex~=2.5 in c:\\users\\angel\\anaconda3\\lib\\site-packages (from jupyter-book->common==0.1.0) (2.6.3)\n",
      "Requirement already satisfied: sphinx~=7.0 in c:\\users\\angel\\anaconda3\\lib\\site-packages (from jupyter-book->common==0.1.0) (7.4.7)\n",
      "Requirement already satisfied: async-lru>=1.0.0 in c:\\users\\angel\\anaconda3\\lib\\site-packages (from jupyterlab->common==0.1.0) (2.0.4)\n",
      "Requirement already satisfied: ipykernel in c:\\users\\angel\\anaconda3\\lib\\site-packages (from jupyterlab->common==0.1.0) (6.28.0)\n",
      "Requirement already satisfied: jupyter-core in c:\\users\\angel\\anaconda3\\lib\\site-packages (from jupyterlab->common==0.1.0) (5.5.0)\n",
      "Requirement already satisfied: jupyter-lsp>=2.0.0 in c:\\users\\angel\\anaconda3\\lib\\site-packages (from jupyterlab->common==0.1.0) (2.2.0)\n",
      "Requirement already satisfied: jupyter-server<3,>=2.4.0 in c:\\users\\angel\\anaconda3\\lib\\site-packages (from jupyterlab->common==0.1.0) (2.10.0)\n",
      "Requirement already satisfied: jupyterlab-server<3,>=2.19.0 in c:\\users\\angel\\anaconda3\\lib\\site-packages (from jupyterlab->common==0.1.0) (2.25.1)\n",
      "Requirement already satisfied: notebook-shim>=0.2 in c:\\users\\angel\\anaconda3\\lib\\site-packages (from jupyterlab->common==0.1.0) (0.2.3)\n",
      "Requirement already satisfied: tornado>=6.2.0 in c:\\users\\angel\\anaconda3\\lib\\site-packages (from jupyterlab->common==0.1.0) (6.3.3)\n",
      "Requirement already satisfied: traitlets in c:\\users\\angel\\anaconda3\\lib\\site-packages (from jupyterlab->common==0.1.0) (5.7.1)\n",
      "Requirement already satisfied: audioread>=2.1.9 in c:\\users\\angel\\anaconda3\\lib\\site-packages (from librosa->common==0.1.0) (3.0.1)\n",
      "Requirement already satisfied: scipy>=1.2.0 in c:\\users\\angel\\anaconda3\\lib\\site-packages (from librosa->common==0.1.0) (1.11.4)\n",
      "Requirement already satisfied: scikit-learn>=0.20.0 in c:\\users\\angel\\anaconda3\\lib\\site-packages (from librosa->common==0.1.0) (1.4.2)\n",
      "Requirement already satisfied: joblib>=0.14 in c:\\users\\angel\\anaconda3\\lib\\site-packages (from librosa->common==0.1.0) (1.2.0)\n",
      "Requirement already satisfied: decorator>=4.3.0 in c:\\users\\angel\\anaconda3\\lib\\site-packages (from librosa->common==0.1.0) (5.1.1)\n",
      "Requirement already satisfied: numba>=0.51.0 in c:\\users\\angel\\anaconda3\\lib\\site-packages (from librosa->common==0.1.0) (0.59.0)\n",
      "Requirement already satisfied: pooch>=1.1 in c:\\users\\angel\\anaconda3\\lib\\site-packages (from librosa->common==0.1.0) (1.8.2)\n",
      "Requirement already satisfied: soxr>=0.3.2 in c:\\users\\angel\\anaconda3\\lib\\site-packages (from librosa->common==0.1.0) (0.5.0.post1)\n",
      "Requirement already satisfied: lazy-loader>=0.1 in c:\\users\\angel\\anaconda3\\lib\\site-packages (from librosa->common==0.1.0) (0.3)\n",
      "Requirement already satisfied: msgpack>=1.0 in c:\\users\\angel\\anaconda3\\lib\\site-packages (from librosa->common==0.1.0) (1.0.3)\n",
      "Requirement already satisfied: museval in c:\\users\\angel\\anaconda3\\lib\\site-packages (from nussl->common==0.1.0) (0.4.1)\n",
      "Requirement already satisfied: musdb in c:\\users\\angel\\anaconda3\\lib\\site-packages (from nussl->common==0.1.0) (0.4.2)\n",
      "Requirement already satisfied: zarr in c:\\users\\angel\\anaconda3\\lib\\site-packages (from nussl->common==0.1.0) (3.0.4)\n",
      "Requirement already satisfied: torch in c:\\users\\angel\\anaconda3\\lib\\site-packages (from nussl->common==0.1.0) (2.6.0)\n",
      "Requirement already satisfied: pytorch-ignite in c:\\users\\angel\\anaconda3\\lib\\site-packages (from nussl->common==0.1.0) (0.5.1)\n",
      "Requirement already satisfied: tensorboard in c:\\users\\angel\\anaconda3\\lib\\site-packages (from nussl->common==0.1.0) (2.17.0)\n",
      "Requirement already satisfied: norbert in c:\\users\\angel\\anaconda3\\lib\\site-packages (from nussl->common==0.1.0) (0.2.1)\n",
      "Requirement already satisfied: tqdm in c:\\users\\angel\\anaconda3\\lib\\site-packages (from nussl->common==0.1.0) (4.65.0)\n",
      "Requirement already satisfied: termtables in c:\\users\\angel\\anaconda3\\lib\\site-packages (from nussl->common==0.1.0) (0.2.4)\n",
      "Requirement already satisfied: gpytorch in c:\\users\\angel\\anaconda3\\lib\\site-packages (from nussl->common==0.1.0) (1.14)\n",
      "Requirement already satisfied: ffmpeg-python in c:\\users\\angel\\anaconda3\\lib\\site-packages (from nussl->common==0.1.0) (0.2.0)\n",
      "Requirement already satisfied: importlib-resources in c:\\users\\angel\\anaconda3\\lib\\site-packages (from nussl->common==0.1.0) (6.5.2)\n",
      "Requirement already satisfied: future>=0.16.0 in c:\\users\\angel\\anaconda3\\lib\\site-packages (from pyloudnorm->common==0.1.0) (0.18.3)\n",
      "Requirement already satisfied: idna>=2.8 in c:\\users\\angel\\anaconda3\\lib\\site-packages (from anyio<5.0,>=3.0->gradio->common==0.1.0) (3.4)\n",
      "Requirement already satisfied: sniffio>=1.1 in c:\\users\\angel\\anaconda3\\lib\\site-packages (from anyio<5.0,>=3.0->gradio->common==0.1.0) (1.3.0)\n",
      "Requirement already satisfied: colorama in c:\\users\\angel\\anaconda3\\lib\\site-packages (from click<9,>=7.1->jupyter-book->common==0.1.0) (0.4.6)\n",
      "Requirement already satisfied: certifi in c:\\users\\angel\\anaconda3\\lib\\site-packages (from httpx>=0.24.1->gradio->common==0.1.0) (2024.2.2)\n",
      "Requirement already satisfied: httpcore==1.* in c:\\users\\angel\\anaconda3\\lib\\site-packages (from httpx>=0.24.1->gradio->common==0.1.0) (1.0.7)\n",
      "Requirement already satisfied: h11<0.15,>=0.13 in c:\\users\\angel\\anaconda3\\lib\\site-packages (from httpcore==1.*->httpx>=0.24.1->gradio->common==0.1.0) (0.14.0)\n",
      "Requirement already satisfied: filelock in c:\\users\\angel\\anaconda3\\lib\\site-packages (from huggingface-hub>=0.28.1->gradio->common==0.1.0) (3.13.1)\n",
      "Requirement already satisfied: requests in c:\\users\\angel\\anaconda3\\lib\\site-packages (from huggingface-hub>=0.28.1->gradio->common==0.1.0) (2.31.0)\n",
      "Requirement already satisfied: sortedcontainers>=2.0.0 in c:\\users\\angel\\anaconda3\\lib\\site-packages (from jams>=0.3.2->scaper==1.6.4->common==0.1.0) (2.4.0)\n",
      "Requirement already satisfied: six in c:\\users\\angel\\anaconda3\\lib\\site-packages (from jams>=0.3.2->scaper==1.6.4->common==0.1.0) (1.16.0)\n",
      "Requirement already satisfied: mir-eval>=0.5 in c:\\users\\angel\\anaconda3\\lib\\site-packages (from jams>=0.3.2->scaper==1.6.4->common==0.1.0) (0.8.2)\n",
      "Requirement already satisfied: attrs>=22.2.0 in c:\\users\\angel\\anaconda3\\lib\\site-packages (from jsonschema<5->jupyter-book->common==0.1.0) (23.1.0)\n",
      "Requirement already satisfied: jsonschema-specifications>=2023.03.6 in c:\\users\\angel\\anaconda3\\lib\\site-packages (from jsonschema<5->jupyter-book->common==0.1.0) (2023.7.1)\n",
      "Requirement already satisfied: referencing>=0.28.4 in c:\\users\\angel\\anaconda3\\lib\\site-packages (from jsonschema<5->jupyter-book->common==0.1.0) (0.30.2)\n",
      "Requirement already satisfied: rpds-py>=0.7.1 in c:\\users\\angel\\anaconda3\\lib\\site-packages (from jsonschema<5->jupyter-book->common==0.1.0) (0.10.6)\n",
      "Requirement already satisfied: argon2-cffi in c:\\users\\angel\\anaconda3\\lib\\site-packages (from jupyter-server<3,>=2.4.0->jupyterlab->common==0.1.0) (21.3.0)\n",
      "Requirement already satisfied: jupyter-client>=7.4.4 in c:\\users\\angel\\anaconda3\\lib\\site-packages (from jupyter-server<3,>=2.4.0->jupyterlab->common==0.1.0) (8.6.0)\n",
      "Requirement already satisfied: jupyter-events>=0.6.0 in c:\\users\\angel\\anaconda3\\lib\\site-packages (from jupyter-server<3,>=2.4.0->jupyterlab->common==0.1.0) (0.8.0)\n",
      "Requirement already satisfied: jupyter-server-terminals in c:\\users\\angel\\anaconda3\\lib\\site-packages (from jupyter-server<3,>=2.4.0->jupyterlab->common==0.1.0) (0.4.4)\n",
      "Requirement already satisfied: nbconvert>=6.4.4 in c:\\users\\angel\\anaconda3\\lib\\site-packages (from jupyter-server<3,>=2.4.0->jupyterlab->common==0.1.0) (7.10.0)\n",
      "Requirement already satisfied: nbformat>=5.3.0 in c:\\users\\angel\\anaconda3\\lib\\site-packages (from jupyter-server<3,>=2.4.0->jupyterlab->common==0.1.0) (5.9.2)\n",
      "Requirement already satisfied: overrides in c:\\users\\angel\\anaconda3\\lib\\site-packages (from jupyter-server<3,>=2.4.0->jupyterlab->common==0.1.0) (7.4.0)\n",
      "Requirement already satisfied: prometheus-client in c:\\users\\angel\\anaconda3\\lib\\site-packages (from jupyter-server<3,>=2.4.0->jupyterlab->common==0.1.0) (0.14.1)\n",
      "Requirement already satisfied: pywinpty in c:\\users\\angel\\anaconda3\\lib\\site-packages (from jupyter-server<3,>=2.4.0->jupyterlab->common==0.1.0) (2.0.10)\n",
      "Requirement already satisfied: pyzmq>=24 in c:\\users\\angel\\anaconda3\\lib\\site-packages (from jupyter-server<3,>=2.4.0->jupyterlab->common==0.1.0) (25.1.2)\n",
      "Requirement already satisfied: send2trash>=1.8.2 in c:\\users\\angel\\anaconda3\\lib\\site-packages (from jupyter-server<3,>=2.4.0->jupyterlab->common==0.1.0) (1.8.2)\n",
      "Requirement already satisfied: terminado>=0.8.3 in c:\\users\\angel\\anaconda3\\lib\\site-packages (from jupyter-server<3,>=2.4.0->jupyterlab->common==0.1.0) (0.17.1)\n",
      "Requirement already satisfied: websocket-client in c:\\users\\angel\\anaconda3\\lib\\site-packages (from jupyter-server<3,>=2.4.0->jupyterlab->common==0.1.0) (0.58.0)\n",
      "Requirement already satisfied: platformdirs>=2.5 in c:\\users\\angel\\anaconda3\\lib\\site-packages (from jupyter-core->jupyterlab->common==0.1.0) (3.10.0)\n",
      "Requirement already satisfied: pywin32>=300 in c:\\users\\angel\\anaconda3\\lib\\site-packages (from jupyter-core->jupyterlab->common==0.1.0) (305.1)\n",
      "Requirement already satisfied: babel>=2.10 in c:\\users\\angel\\anaconda3\\lib\\site-packages (from jupyterlab-server<3,>=2.19.0->jupyterlab->common==0.1.0) (2.17.0)\n",
      "Requirement already satisfied: json5>=0.9.0 in c:\\users\\angel\\anaconda3\\lib\\site-packages (from jupyterlab-server<3,>=2.19.0->jupyterlab->common==0.1.0) (0.9.6)\n",
      "Requirement already satisfied: uc-micro-py in c:\\users\\angel\\anaconda3\\lib\\site-packages (from linkify-it-py<3,>=2->jupyter-book->common==0.1.0) (1.0.1)\n",
      "Requirement already satisfied: importlib_metadata in c:\\users\\angel\\anaconda3\\lib\\site-packages (from myst-nb~=1.0->jupyter-book->common==0.1.0) (7.0.1)\n",
      "Requirement already satisfied: ipython in c:\\users\\angel\\anaconda3\\lib\\site-packages (from myst-nb~=1.0->jupyter-book->common==0.1.0) (8.20.0)\n",
      "Requirement already satisfied: jupyter-cache>=0.5 in c:\\users\\angel\\anaconda3\\lib\\site-packages (from myst-nb~=1.0->jupyter-book->common==0.1.0) (1.0.1)\n",
      "Requirement already satisfied: nbclient in c:\\users\\angel\\anaconda3\\lib\\site-packages (from myst-nb~=1.0->jupyter-book->common==0.1.0) (0.8.0)\n",
      "Requirement already satisfied: docutils<0.22,>=0.18 in c:\\users\\angel\\anaconda3\\lib\\site-packages (from myst-parser~=3.0->jupyter-book->common==0.1.0) (0.21.2)\n",
      "Requirement already satisfied: markdown-it-py~=3.0 in c:\\users\\angel\\anaconda3\\lib\\site-packages (from myst-parser~=3.0->jupyter-book->common==0.1.0) (3.0.0)\n",
      "Requirement already satisfied: mdit-py-plugins~=0.4 in c:\\users\\angel\\anaconda3\\lib\\site-packages (from myst-parser~=3.0->jupyter-book->common==0.1.0) (0.4.2)\n",
      "Requirement already satisfied: llvmlite<0.43,>=0.42.0dev0 in c:\\users\\angel\\anaconda3\\lib\\site-packages (from numba>=0.51.0->librosa->common==0.1.0) (0.42.0)\n",
      "Requirement already satisfied: pytz>=2020.1 in c:\\users\\angel\\anaconda3\\lib\\site-packages (from pandas<3.0,>=1.0->gradio->common==0.1.0) (2023.3.post1)\n",
      "Requirement already satisfied: tzdata>=2022.1 in c:\\users\\angel\\anaconda3\\lib\\site-packages (from pandas<3.0,>=1.0->gradio->common==0.1.0) (2023.3)\n",
      "Requirement already satisfied: annotated-types>=0.6.0 in c:\\users\\angel\\anaconda3\\lib\\site-packages (from pydantic>=2.0->gradio->common==0.1.0) (0.7.0)\n",
      "Requirement already satisfied: pydantic-core==2.27.2 in c:\\users\\angel\\anaconda3\\lib\\site-packages (from pydantic>=2.0->gradio->common==0.1.0) (2.27.2)\n",
      "Requirement already satisfied: threadpoolctl>=2.0.0 in c:\\users\\angel\\anaconda3\\lib\\site-packages (from scikit-learn>=0.20.0->librosa->common==0.1.0) (2.2.0)\n",
      "Requirement already satisfied: cffi>=1.0 in c:\\users\\angel\\anaconda3\\lib\\site-packages (from soundfile->scaper==1.6.4->common==0.1.0) (1.16.0)\n",
      "Requirement already satisfied: sphinxcontrib-applehelp in c:\\users\\angel\\anaconda3\\lib\\site-packages (from sphinx~=7.0->jupyter-book->common==0.1.0) (1.0.2)\n",
      "Requirement already satisfied: sphinxcontrib-devhelp in c:\\users\\angel\\anaconda3\\lib\\site-packages (from sphinx~=7.0->jupyter-book->common==0.1.0) (1.0.2)\n",
      "Requirement already satisfied: sphinxcontrib-jsmath in c:\\users\\angel\\anaconda3\\lib\\site-packages (from sphinx~=7.0->jupyter-book->common==0.1.0) (1.0.1)\n",
      "Requirement already satisfied: sphinxcontrib-htmlhelp>=2.0.0 in c:\\users\\angel\\anaconda3\\lib\\site-packages (from sphinx~=7.0->jupyter-book->common==0.1.0) (2.0.0)\n",
      "Requirement already satisfied: sphinxcontrib-serializinghtml>=1.1.9 in c:\\users\\angel\\anaconda3\\lib\\site-packages (from sphinx~=7.0->jupyter-book->common==0.1.0) (2.0.0)\n",
      "Requirement already satisfied: sphinxcontrib-qthelp in c:\\users\\angel\\anaconda3\\lib\\site-packages (from sphinx~=7.0->jupyter-book->common==0.1.0) (1.0.3)\n",
      "Requirement already satisfied: Pygments>=2.17 in c:\\users\\angel\\anaconda3\\lib\\site-packages (from sphinx~=7.0->jupyter-book->common==0.1.0) (2.19.1)\n",
      "Requirement already satisfied: snowballstemmer>=2.2 in c:\\users\\angel\\anaconda3\\lib\\site-packages (from sphinx~=7.0->jupyter-book->common==0.1.0) (2.2.0)\n",
      "Requirement already satisfied: alabaster~=0.7.14 in c:\\users\\angel\\anaconda3\\lib\\site-packages (from sphinx~=7.0->jupyter-book->common==0.1.0) (0.7.16)\n",
      "Requirement already satisfied: imagesize>=1.3 in c:\\users\\angel\\anaconda3\\lib\\site-packages (from sphinx~=7.0->jupyter-book->common==0.1.0) (1.4.1)\n",
      "Requirement already satisfied: pydata-sphinx-theme==0.15.4 in c:\\users\\angel\\anaconda3\\lib\\site-packages (from sphinx-book-theme~=1.1->jupyter-book->common==0.1.0) (0.15.4)\n",
      "Requirement already satisfied: beautifulsoup4 in c:\\users\\angel\\anaconda3\\lib\\site-packages (from pydata-sphinx-theme==0.15.4->sphinx-book-theme~=1.1->jupyter-book->common==0.1.0) (4.12.2)\n",
      "Requirement already satisfied: accessible-pygments in c:\\users\\angel\\anaconda3\\lib\\site-packages (from pydata-sphinx-theme==0.15.4->sphinx-book-theme~=1.1->jupyter-book->common==0.1.0) (0.0.5)\n",
      "Requirement already satisfied: setuptools in c:\\users\\angel\\anaconda3\\lib\\site-packages (from sphinx-togglebutton~=0.3->jupyter-book->common==0.1.0) (68.2.2)\n",
      "Requirement already satisfied: wheel in c:\\users\\angel\\anaconda3\\lib\\site-packages (from sphinx-togglebutton~=0.3->jupyter-book->common==0.1.0) (0.41.2)\n",
      "Requirement already satisfied: pybtex>=0.24 in c:\\users\\angel\\anaconda3\\lib\\site-packages (from sphinxcontrib-bibtex~=2.5->jupyter-book->common==0.1.0) (0.24.0)\n",
      "Requirement already satisfied: pybtex-docutils>=1.0.0 in c:\\users\\angel\\anaconda3\\lib\\site-packages (from sphinxcontrib-bibtex~=2.5->jupyter-book->common==0.1.0) (1.0.3)\n",
      "Requirement already satisfied: shellingham>=1.3.0 in c:\\users\\angel\\anaconda3\\lib\\site-packages (from typer<1.0,>=0.12->gradio->common==0.1.0) (1.5.4)\n",
      "Requirement already satisfied: rich>=10.11.0 in c:\\users\\angel\\anaconda3\\lib\\site-packages (from typer<1.0,>=0.12->gradio->common==0.1.0) (13.9.4)\n",
      "Requirement already satisfied: jaxtyping in c:\\users\\angel\\anaconda3\\lib\\site-packages (from gpytorch->nussl->common==0.1.0) (0.2.38)\n",
      "Requirement already satisfied: mpmath<=1.3,>=0.19 in c:\\users\\angel\\anaconda3\\lib\\site-packages (from gpytorch->nussl->common==0.1.0) (1.3.0)\n",
      "Requirement already satisfied: linear-operator>=0.6 in c:\\users\\angel\\anaconda3\\lib\\site-packages (from gpytorch->nussl->common==0.1.0) (0.6)\n",
      "Requirement already satisfied: comm>=0.1.1 in c:\\users\\angel\\anaconda3\\lib\\site-packages (from ipykernel->jupyterlab->common==0.1.0) (0.1.2)\n",
      "Requirement already satisfied: debugpy>=1.6.5 in c:\\users\\angel\\anaconda3\\lib\\site-packages (from ipykernel->jupyterlab->common==0.1.0) (1.6.7)\n",
      "Requirement already satisfied: matplotlib-inline>=0.1 in c:\\users\\angel\\anaconda3\\lib\\site-packages (from ipykernel->jupyterlab->common==0.1.0) (0.1.6)\n",
      "Requirement already satisfied: nest-asyncio in c:\\users\\angel\\anaconda3\\lib\\site-packages (from ipykernel->jupyterlab->common==0.1.0) (1.6.0)\n",
      "Requirement already satisfied: psutil in c:\\users\\angel\\anaconda3\\lib\\site-packages (from ipykernel->jupyterlab->common==0.1.0) (5.9.0)\n",
      "Requirement already satisfied: stempeg>=0.2.3 in c:\\users\\angel\\anaconda3\\lib\\site-packages (from musdb->nussl->common==0.1.0) (0.2.3)\n",
      "Requirement already satisfied: pyaml in c:\\users\\angel\\anaconda3\\lib\\site-packages (from musdb->nussl->common==0.1.0) (25.1.0)\n",
      "Requirement already satisfied: simplejson>=3.19.0 in c:\\users\\angel\\anaconda3\\lib\\site-packages (from museval->nussl->common==0.1.0) (3.20.1)\n",
      "Requirement already satisfied: networkx in c:\\users\\angel\\anaconda3\\lib\\site-packages (from torch->nussl->common==0.1.0) (3.1)\n",
      "Requirement already satisfied: sympy==1.13.1 in c:\\users\\angel\\anaconda3\\lib\\site-packages (from torch->nussl->common==0.1.0) (1.13.1)\n",
      "Requirement already satisfied: absl-py>=0.4 in c:\\users\\angel\\anaconda3\\lib\\site-packages (from tensorboard->nussl->common==0.1.0) (2.1.0)\n",
      "Requirement already satisfied: grpcio>=1.48.2 in c:\\users\\angel\\anaconda3\\lib\\site-packages (from tensorboard->nussl->common==0.1.0) (1.65.1)\n",
      "Requirement already satisfied: markdown>=2.6.8 in c:\\users\\angel\\anaconda3\\lib\\site-packages (from tensorboard->nussl->common==0.1.0) (3.4.1)\n",
      "Requirement already satisfied: protobuf!=4.24.0,<5.0.0,>=3.19.6 in c:\\users\\angel\\anaconda3\\lib\\site-packages (from tensorboard->nussl->common==0.1.0) (3.20.3)\n",
      "Requirement already satisfied: tensorboard-data-server<0.8.0,>=0.7.0 in c:\\users\\angel\\anaconda3\\lib\\site-packages (from tensorboard->nussl->common==0.1.0) (0.7.2)\n",
      "Requirement already satisfied: werkzeug>=1.0.1 in c:\\users\\angel\\anaconda3\\lib\\site-packages (from tensorboard->nussl->common==0.1.0) (2.2.3)\n",
      "Requirement already satisfied: donfig>=0.8 in c:\\users\\angel\\anaconda3\\lib\\site-packages (from zarr->nussl->common==0.1.0) (0.8.1.post1)\n",
      "Requirement already satisfied: numcodecs>=0.14 in c:\\users\\angel\\anaconda3\\lib\\site-packages (from numcodecs[crc32c]>=0.14->zarr->nussl->common==0.1.0) (0.15.1)\n",
      "Requirement already satisfied: pycparser in c:\\users\\angel\\anaconda3\\lib\\site-packages (from cffi>=1.0->soundfile->scaper==1.6.4->common==0.1.0) (2.21)\n",
      "Requirement already satisfied: jedi>=0.16 in c:\\users\\angel\\anaconda3\\lib\\site-packages (from ipython->myst-nb~=1.0->jupyter-book->common==0.1.0) (0.18.1)\n",
      "Requirement already satisfied: prompt-toolkit<3.1.0,>=3.0.41 in c:\\users\\angel\\anaconda3\\lib\\site-packages (from ipython->myst-nb~=1.0->jupyter-book->common==0.1.0) (3.0.43)\n",
      "Requirement already satisfied: stack-data in c:\\users\\angel\\anaconda3\\lib\\site-packages (from ipython->myst-nb~=1.0->jupyter-book->common==0.1.0) (0.2.0)\n",
      "Requirement already satisfied: sqlalchemy<3,>=1.3.12 in c:\\users\\angel\\anaconda3\\lib\\site-packages (from jupyter-cache>=0.5->myst-nb~=1.0->jupyter-book->common==0.1.0) (2.0.25)\n",
      "Requirement already satisfied: tabulate in c:\\users\\angel\\anaconda3\\lib\\site-packages (from jupyter-cache>=0.5->myst-nb~=1.0->jupyter-book->common==0.1.0) (0.9.0)\n",
      "Requirement already satisfied: python-json-logger>=2.0.4 in c:\\users\\angel\\anaconda3\\lib\\site-packages (from jupyter-events>=0.6.0->jupyter-server<3,>=2.4.0->jupyterlab->common==0.1.0) (2.0.7)\n",
      "Requirement already satisfied: rfc3339-validator in c:\\users\\angel\\anaconda3\\lib\\site-packages (from jupyter-events>=0.6.0->jupyter-server<3,>=2.4.0->jupyterlab->common==0.1.0) (0.1.4)\n",
      "Requirement already satisfied: rfc3986-validator>=0.1.1 in c:\\users\\angel\\anaconda3\\lib\\site-packages (from jupyter-events>=0.6.0->jupyter-server<3,>=2.4.0->jupyterlab->common==0.1.0) (0.1.1)\n",
      "Requirement already satisfied: mdurl~=0.1 in c:\\users\\angel\\anaconda3\\lib\\site-packages (from markdown-it-py~=3.0->myst-parser~=3.0->jupyter-book->common==0.1.0) (0.1.0)\n",
      "Requirement already satisfied: bleach!=5.0.0 in c:\\users\\angel\\anaconda3\\lib\\site-packages (from nbconvert>=6.4.4->jupyter-server<3,>=2.4.0->jupyterlab->common==0.1.0) (4.1.0)\n",
      "Requirement already satisfied: defusedxml in c:\\users\\angel\\anaconda3\\lib\\site-packages (from nbconvert>=6.4.4->jupyter-server<3,>=2.4.0->jupyterlab->common==0.1.0) (0.7.1)\n",
      "Requirement already satisfied: jupyterlab-pygments in c:\\users\\angel\\anaconda3\\lib\\site-packages (from nbconvert>=6.4.4->jupyter-server<3,>=2.4.0->jupyterlab->common==0.1.0) (0.1.2)\n",
      "Requirement already satisfied: mistune<4,>=2.0.3 in c:\\users\\angel\\anaconda3\\lib\\site-packages (from nbconvert>=6.4.4->jupyter-server<3,>=2.4.0->jupyterlab->common==0.1.0) (2.0.4)\n",
      "Requirement already satisfied: pandocfilters>=1.4.1 in c:\\users\\angel\\anaconda3\\lib\\site-packages (from nbconvert>=6.4.4->jupyter-server<3,>=2.4.0->jupyterlab->common==0.1.0) (1.5.0)\n",
      "Requirement already satisfied: tinycss2 in c:\\users\\angel\\anaconda3\\lib\\site-packages (from nbconvert>=6.4.4->jupyter-server<3,>=2.4.0->jupyterlab->common==0.1.0) (1.2.1)\n",
      "Requirement already satisfied: fastjsonschema in c:\\users\\angel\\anaconda3\\lib\\site-packages (from nbformat>=5.3.0->jupyter-server<3,>=2.4.0->jupyterlab->common==0.1.0) (2.16.2)\n",
      "Requirement already satisfied: deprecated in c:\\users\\angel\\anaconda3\\lib\\site-packages (from numcodecs>=0.14->numcodecs[crc32c]>=0.14->zarr->nussl->common==0.1.0) (1.2.18)\n",
      "Requirement already satisfied: crc32c>=2.7 in c:\\users\\angel\\anaconda3\\lib\\site-packages (from numcodecs[crc32c]>=0.14->zarr->nussl->common==0.1.0) (2.7.1)\n",
      "Requirement already satisfied: latexcodec>=1.0.4 in c:\\users\\angel\\anaconda3\\lib\\site-packages (from pybtex>=0.24->sphinxcontrib-bibtex~=2.5->jupyter-book->common==0.1.0) (3.0.0)\n",
      "Requirement already satisfied: charset-normalizer<4,>=2 in c:\\users\\angel\\anaconda3\\lib\\site-packages (from requests->huggingface-hub>=0.28.1->gradio->common==0.1.0) (2.0.4)\n",
      "Requirement already satisfied: urllib3<3,>=1.21.1 in c:\\users\\angel\\anaconda3\\lib\\site-packages (from requests->huggingface-hub>=0.28.1->gradio->common==0.1.0) (2.0.7)\n",
      "Requirement already satisfied: argon2-cffi-bindings in c:\\users\\angel\\anaconda3\\lib\\site-packages (from argon2-cffi->jupyter-server<3,>=2.4.0->jupyterlab->common==0.1.0) (21.2.0)\n",
      "Requirement already satisfied: zipp>=0.5 in c:\\users\\angel\\anaconda3\\lib\\site-packages (from importlib_metadata->myst-nb~=1.0->jupyter-book->common==0.1.0) (3.17.0)\n",
      "Requirement already satisfied: wadler-lindig>=0.1.3 in c:\\users\\angel\\anaconda3\\lib\\site-packages (from jaxtyping->gpytorch->nussl->common==0.1.0) (0.1.3)\n",
      "Requirement already satisfied: webencodings in c:\\users\\angel\\anaconda3\\lib\\site-packages (from bleach!=5.0.0->nbconvert>=6.4.4->jupyter-server<3,>=2.4.0->jupyterlab->common==0.1.0) (0.5.1)\n",
      "Requirement already satisfied: parso<0.9.0,>=0.8.0 in c:\\users\\angel\\anaconda3\\lib\\site-packages (from jedi>=0.16->ipython->myst-nb~=1.0->jupyter-book->common==0.1.0) (0.8.3)\n",
      "Requirement already satisfied: fqdn in c:\\users\\angel\\anaconda3\\lib\\site-packages (from jsonschema[format-nongpl]>=4.18.0->jupyter-events>=0.6.0->jupyter-server<3,>=2.4.0->jupyterlab->common==0.1.0) (1.5.1)\n",
      "Requirement already satisfied: isoduration in c:\\users\\angel\\anaconda3\\lib\\site-packages (from jsonschema[format-nongpl]>=4.18.0->jupyter-events>=0.6.0->jupyter-server<3,>=2.4.0->jupyterlab->common==0.1.0) (20.11.0)\n",
      "Requirement already satisfied: jsonpointer>1.13 in c:\\users\\angel\\anaconda3\\lib\\site-packages (from jsonschema[format-nongpl]>=4.18.0->jupyter-events>=0.6.0->jupyter-server<3,>=2.4.0->jupyterlab->common==0.1.0) (2.1)\n",
      "Requirement already satisfied: uri-template in c:\\users\\angel\\anaconda3\\lib\\site-packages (from jsonschema[format-nongpl]>=4.18.0->jupyter-events>=0.6.0->jupyter-server<3,>=2.4.0->jupyterlab->common==0.1.0) (1.3.0)\n",
      "Requirement already satisfied: webcolors>=1.11 in c:\\users\\angel\\anaconda3\\lib\\site-packages (from jsonschema[format-nongpl]>=4.18.0->jupyter-events>=0.6.0->jupyter-server<3,>=2.4.0->jupyterlab->common==0.1.0) (24.11.1)\n",
      "Requirement already satisfied: wcwidth in c:\\users\\angel\\anaconda3\\lib\\site-packages (from prompt-toolkit<3.1.0,>=3.0.41->ipython->myst-nb~=1.0->jupyter-book->common==0.1.0) (0.2.5)\n",
      "Requirement already satisfied: greenlet!=0.4.17 in c:\\users\\angel\\anaconda3\\lib\\site-packages (from sqlalchemy<3,>=1.3.12->jupyter-cache>=0.5->myst-nb~=1.0->jupyter-book->common==0.1.0) (3.0.1)\n",
      "Requirement already satisfied: soupsieve>1.2 in c:\\users\\angel\\anaconda3\\lib\\site-packages (from beautifulsoup4->pydata-sphinx-theme==0.15.4->sphinx-book-theme~=1.1->jupyter-book->common==0.1.0) (2.5)\n",
      "Requirement already satisfied: wrapt<2,>=1.10 in c:\\users\\angel\\anaconda3\\lib\\site-packages (from deprecated->numcodecs>=0.14->numcodecs[crc32c]>=0.14->zarr->nussl->common==0.1.0) (1.14.1)\n",
      "Requirement already satisfied: executing in c:\\users\\angel\\anaconda3\\lib\\site-packages (from stack-data->ipython->myst-nb~=1.0->jupyter-book->common==0.1.0) (0.8.3)\n",
      "Requirement already satisfied: asttokens in c:\\users\\angel\\anaconda3\\lib\\site-packages (from stack-data->ipython->myst-nb~=1.0->jupyter-book->common==0.1.0) (2.0.5)\n",
      "Requirement already satisfied: pure-eval in c:\\users\\angel\\anaconda3\\lib\\site-packages (from stack-data->ipython->myst-nb~=1.0->jupyter-book->common==0.1.0) (0.2.2)\n",
      "Requirement already satisfied: arrow>=0.15.0 in c:\\users\\angel\\anaconda3\\lib\\site-packages (from isoduration->jsonschema[format-nongpl]>=4.18.0->jupyter-events>=0.6.0->jupyter-server<3,>=2.4.0->jupyterlab->common==0.1.0) (1.2.3)\n"
     ]
    },
    {
     "name": "stderr",
     "output_type": "stream",
     "text": [
      "  Running command git clone --filter=blob:none --quiet https://github.com/source-separation/tutorial 'C:\\Users\\Angel\\AppData\\Local\\Temp\\pip-req-build-ahvgw4l4'\n"
     ]
    }
   ],
   "source": [
    "!pip install git+https://github.com/source-separation/tutorial"
   ]
  },
  {
   "cell_type": "code",
   "execution_count": 14,
   "id": "4ea69e83-d429-4c22-8987-9ee52a98c441",
   "metadata": {},
   "outputs": [
    {
     "ename": "ModuleNotFoundError",
     "evalue": "No module named 'common'",
     "output_type": "error",
     "traceback": [
      "\u001b[1;31m---------------------------------------------------------------------------\u001b[0m",
      "\u001b[1;31mModuleNotFoundError\u001b[0m                       Traceback (most recent call last)",
      "Cell \u001b[1;32mIn[14], line 1\u001b[0m\n\u001b[1;32m----> 1\u001b[0m \u001b[38;5;28;01mfrom\u001b[39;00m\u001b[38;5;250m \u001b[39m\u001b[38;5;21;01mcommon\u001b[39;00m\u001b[38;5;21;01m.\u001b[39;00m\u001b[38;5;21;01mmodels\u001b[39;00m\u001b[38;5;250m \u001b[39m\u001b[38;5;28;01mimport\u001b[39;00m MaskInference\n",
      "\u001b[1;31mModuleNotFoundError\u001b[0m: No module named 'common'"
     ]
    }
   ],
   "source": [
    "from common.models import MaskInference"
   ]
  },
  {
   "cell_type": "code",
   "execution_count": 16,
   "id": "ddc02b43-872a-476e-8b05-6e97bb4ccc39",
   "metadata": {},
   "outputs": [],
   "source": [
    "DEVICE = 'cuda' if torch.cuda.is_available() else 'cpu'"
   ]
  },
  {
   "cell_type": "code",
   "execution_count": 5,
   "id": "f959a0a7-9205-436d-b539-8d672ae8ecf1",
   "metadata": {},
   "outputs": [],
   "source": [
    "from nussl.core.audio_signal import STFTParams\n",
    "torch.serialization.add_safe_globals([STFTParams])"
   ]
  },
  {
   "cell_type": "code",
   "execution_count": 6,
   "id": "050e0807-e84c-4a59-8b6b-72c0fa0447ad",
   "metadata": {},
   "outputs": [],
   "source": [
    "from nussl.datasets.transforms import Compose\n",
    "torch.serialization.add_safe_globals([Compose])"
   ]
  },
  {
   "cell_type": "code",
   "execution_count": 7,
   "id": "142165a5-f9e3-4052-804d-2647f1041b23",
   "metadata": {},
   "outputs": [],
   "source": [
    "from nussl.datasets.transforms import SumSources\n",
    "torch.serialization.add_safe_globals([SumSources])"
   ]
  },
  {
   "cell_type": "code",
   "execution_count": 8,
   "id": "399ca54a-f114-4673-959a-1697b8840cad",
   "metadata": {},
   "outputs": [],
   "source": [
    "from nussl.datasets.transforms import MagnitudeSpectrumApproximation\n",
    "torch.serialization.add_safe_globals([MagnitudeSpectrumApproximation])"
   ]
  },
  {
   "cell_type": "code",
   "execution_count": 9,
   "id": "62d02b60-36b8-4b77-81aa-23d01cb243a4",
   "metadata": {},
   "outputs": [],
   "source": [
    "from nussl.datasets.transforms import IndexSources\n",
    "torch.serialization.add_safe_globals([IndexSources])"
   ]
  },
  {
   "cell_type": "code",
   "execution_count": 10,
   "id": "61e8251b-1528-4df4-b9f3-68a9273bb4e5",
   "metadata": {},
   "outputs": [],
   "source": [
    "from nussl.datasets.transforms import ToSeparationModel\n",
    "torch.serialization.add_safe_globals([ToSeparationModel])"
   ]
  },
  {
   "cell_type": "code",
   "execution_count": 12,
   "id": "f929563f-4c1b-47ea-b1ad-4c2cdecd4be4",
   "metadata": {},
   "outputs": [],
   "source": [
    "from numpy.core.multiarray import scalar \n",
    "torch.serialization.add_safe_globals([scalar])"
   ]
  },
  {
   "cell_type": "code",
   "execution_count": 13,
   "id": "1e861684-53f4-48ea-8a76-58322cef4f1a",
   "metadata": {},
   "outputs": [],
   "source": [
    "from numpy.dtypes import Float64DType\n",
    "torch.serialization.add_safe_globals([Float64DType])"
   ]
  },
  {
   "cell_type": "code",
   "execution_count": 14,
   "id": "29e7f296-526a-44e4-94a5-7094a3cabe6c",
   "metadata": {},
   "outputs": [],
   "source": [
    "import numpy as np \n",
    "torch.serialization.add_safe_globals([np.dtype])"
   ]
  },
  {
   "cell_type": "code",
   "execution_count": 21,
   "id": "7f2fd9e4-f2c0-49b0-840b-c2dbab769ba4",
   "metadata": {},
   "outputs": [],
   "source": [
    "separator = nussl.separation.deep.DeepMaskEstimation(\n",
    "    nussl.AudioSignal(), model_path='bad.model.pth',\n",
    "    device=DEVICE,\n",
    ")"
   ]
  },
  {
   "cell_type": "code",
   "execution_count": 24,
   "id": "470daabd-fe10-4feb-8ab8-edec438d641e",
   "metadata": {
    "editable": true,
    "slideshow": {
     "slide_type": ""
    },
    "tags": [
     "parameters"
    ]
   },
   "outputs": [],
   "source": [
    "# tagged as parameters \n",
    "path = \"AM Contra - Heart Peripheral.wav\""
   ]
  },
  {
   "cell_type": "code",
   "execution_count": 25,
   "id": "5263e4b1-f33e-4aed-a58e-426d3222e9a9",
   "metadata": {},
   "outputs": [
    {
     "data": {
      "text/plain": [
       "[<nussl.core.masks.soft_mask.SoftMask at 0x17e0839e050>,\n",
       " <nussl.core.masks.soft_mask.SoftMask at 0x17e09a22610>,\n",
       " <nussl.core.masks.soft_mask.SoftMask at 0x17e09a21790>,\n",
       " <nussl.core.masks.soft_mask.SoftMask at 0x17e0b3a2350>]"
      ]
     },
     "execution_count": 25,
     "metadata": {},
     "output_type": "execute_result"
    }
   ],
   "source": [
    "separator.audio_signal = nussl.AudioSignal(path)\n",
    "separator.run()"
   ]
  },
  {
   "cell_type": "code",
   "execution_count": 27,
   "id": "12272dc6-5e43-49bd-ac5b-c8eb870813c6",
   "metadata": {},
   "outputs": [
    {
     "name": "stdout",
     "output_type": "stream",
     "text": [
      "Saved vocals as vocals_AM Contra - Heart Peripheral.wav\n",
      "Saved bass as bass_AM Contra - Heart Peripheral.wav\n",
      "Saved drums as drums_AM Contra - Heart Peripheral.wav\n",
      "Saved other as other_AM Contra - Heart Peripheral.wav\n"
     ]
    }
   ],
   "source": [
    "audios = separator.make_audio_signals()\n",
    "source_names = ['vocals', 'bass', 'drums', 'other']\n",
    "index = 0\n",
    "for signal in audios :\n",
    "    source_output_file = f\"{source_names[index]}_{path}\"\n",
    "    signal.write_audio_to_file(str(source_output_file))\n",
    "    print(f\"Saved {source_names[index]} as {source_output_file}\")\n",
    "    index = index + 1"
   ]
  },
  {
   "cell_type": "code",
   "execution_count": null,
   "id": "d57507cb-e1e1-4d56-92bd-b3ec59bd909e",
   "metadata": {},
   "outputs": [],
   "source": []
  }
 ],
 "metadata": {
  "kernelspec": {
   "display_name": "Python 3",
   "language": "python",
   "name": "python3"
  },
  "language_info": {
   "codemirror_mode": {
    "name": "ipython",
    "version": 3
   },
   "file_extension": ".py",
   "mimetype": "text/x-python",
   "name": "python",
   "nbconvert_exporter": "python",
   "pygments_lexer": "ipython3",
   "version": "3.10.11"
  }
 },
 "nbformat": 4,
 "nbformat_minor": 5
}
